{
 "cells": [
  {
   "cell_type": "code",
   "execution_count": 1,
   "metadata": {},
   "outputs": [
    {
     "name": "stdout",
     "output_type": "stream",
     "text": [
      "Training is starting\n",
      "T_exec embedding generation: 0.04930996894836426s\n",
      "Iter number: 0 / 2\n",
      "Iter number: 1 / 2\n",
      "Iter number: 0 / 2\n",
      "Iter number: 1 / 2\n",
      "Found: 4 Total: 6 Percentage: 0.6666666666666666\n",
      "Finish\n"
     ]
    }
   ],
   "source": [
    "import pandas as pd\n",
    "from graph import *\n",
    "from embeddings import *\n",
    "from visualization import *\n",
    "from ER import *"
   ]
  },
  {
   "cell_type": "code",
   "execution_count": 2,
   "metadata": {},
   "outputs": [
    {
     "name": "stdout",
     "output_type": "stream",
     "text": [
      "Training is starting\n",
      "T_exec embedding generation: 0.002002716064453125s\n",
      "Iter number: 0 / 2\n",
      "Iter number: 1 / 2\n",
      "Iter number: 0 / 2\n",
      "Iter number: 1 / 2\n"
     ]
    }
   ],
   "source": [
    "entity_resolution(r'C:\\Users\\frapu\\Desktop\\GeneralPurposeTableEmbedding\\Datasets\\testAB.csv', r'C:\\Users\\frapu\\Desktop\\GeneralPurposeTableEmbedding\\Datasets\\testBC.csv', directory_name_out=r'C:\\Users\\frapu\\Desktop\\GeneralPurposeTableEmbedding\\TestDir')"
   ]
  },
  {
   "cell_type": "code",
   "execution_count": 3,
   "metadata": {},
   "outputs": [],
   "source": [
    "n_top_A, n_top_B, index_to_token = load_n_topr(r'C:\\Users\\frapu\\Desktop\\GeneralPurposeTableEmbedding\\TestDir')"
   ]
  },
  {
   "cell_type": "code",
   "execution_count": 4,
   "metadata": {},
   "outputs": [
    {
     "data": {
      "text/plain": [
       "{2: [(9, tensor(0.0363, requires_grad=True)),\n",
       "  (10, tensor(-0.0530, requires_grad=True))],\n",
       " 5: [(10, tensor(0.0338, requires_grad=True)),\n",
       "  (9, tensor(-0.0039, requires_grad=True))]}"
      ]
     },
     "execution_count": 4,
     "metadata": {},
     "output_type": "execute_result"
    }
   ],
   "source": [
    "n_top_A"
   ]
  },
  {
   "cell_type": "code",
   "execution_count": 5,
   "metadata": {},
   "outputs": [
    {
     "data": {
      "text/plain": [
       "{9: [(2, tensor(0.0363, requires_grad=True)),\n",
       "  (5, tensor(-0.0039, requires_grad=True))],\n",
       " 10: [(5, tensor(0.0338, requires_grad=True)),\n",
       "  (2, tensor(-0.0530, requires_grad=True))]}"
      ]
     },
     "execution_count": 5,
     "metadata": {},
     "output_type": "execute_result"
    }
   ],
   "source": [
    "n_top_B"
   ]
  },
  {
   "cell_type": "code",
   "execution_count": 1,
   "metadata": {},
   "outputs": [],
   "source": [
    "import torch"
   ]
  },
  {
   "cell_type": "code",
   "execution_count": 2,
   "metadata": {},
   "outputs": [
    {
     "data": {
      "text/plain": [
       "True"
      ]
     },
     "execution_count": 2,
     "metadata": {},
     "output_type": "execute_result"
    }
   ],
   "source": [
    "torch.cuda.is_available()"
   ]
  },
  {
   "cell_type": "code",
   "execution_count": 1,
   "metadata": {},
   "outputs": [],
   "source": [
    "import pandas as pd\n",
    "df = pd.read_csv('/home/francesco.pugnaloni/GeneralPurposeTableEmbedding/Tests/MSD/Datasets/msd-master.csv')"
   ]
  },
  {
   "cell_type": "code",
   "execution_count": 3,
   "metadata": {},
   "outputs": [
    {
     "data": {
      "text/html": [
       "<div>\n",
       "<style scoped>\n",
       "    .dataframe tbody tr th:only-of-type {\n",
       "        vertical-align: middle;\n",
       "    }\n",
       "\n",
       "    .dataframe tbody tr th {\n",
       "        vertical-align: top;\n",
       "    }\n",
       "\n",
       "    .dataframe thead th {\n",
       "        text-align: right;\n",
       "    }\n",
       "</style>\n",
       "<table border=\"1\" class=\"dataframe\">\n",
       "  <thead>\n",
       "    <tr style=\"text-align: right;\">\n",
       "      <th></th>\n",
       "      <th>artist_name</th>\n",
       "      <th>duration</th>\n",
       "      <th>release</th>\n",
       "      <th>title</th>\n",
       "      <th>year</th>\n",
       "    </tr>\n",
       "  </thead>\n",
       "  <tbody>\n",
       "    <tr>\n",
       "      <th>0</th>\n",
       "      <td>faster_pussy_cat</td>\n",
       "      <td>252.05506</td>\n",
       "      <td>monster_ballads_xmas</td>\n",
       "      <td>silent_night</td>\n",
       "      <td>2003.0</td>\n",
       "    </tr>\n",
       "    <tr>\n",
       "      <th>1</th>\n",
       "      <td>karkkiautomaatti</td>\n",
       "      <td>156.55138</td>\n",
       "      <td>karkuteill</td>\n",
       "      <td>tanssi_vaan</td>\n",
       "      <td>1995.0</td>\n",
       "    </tr>\n",
       "    <tr>\n",
       "      <th>2</th>\n",
       "      <td>hudson_mohawke</td>\n",
       "      <td>138.97098</td>\n",
       "      <td>butter</td>\n",
       "      <td>no_one_could_ever</td>\n",
       "      <td>2006.0</td>\n",
       "    </tr>\n",
       "    <tr>\n",
       "      <th>3</th>\n",
       "      <td>yerba_brava</td>\n",
       "      <td>145.05751</td>\n",
       "      <td>de_culo</td>\n",
       "      <td>si_vos_quers</td>\n",
       "      <td>2003.0</td>\n",
       "    </tr>\n",
       "    <tr>\n",
       "      <th>4</th>\n",
       "      <td>der_mystic</td>\n",
       "      <td>514.29832</td>\n",
       "      <td>rene_ablaze_presents_winter_sessions</td>\n",
       "      <td>tangle_of_aspens</td>\n",
       "      <td>NaN</td>\n",
       "    </tr>\n",
       "  </tbody>\n",
       "</table>\n",
       "</div>"
      ],
      "text/plain": [
       "        artist_name   duration                               release   \n",
       "0  faster_pussy_cat  252.05506                  monster_ballads_xmas  \\\n",
       "1  karkkiautomaatti  156.55138                            karkuteill   \n",
       "2    hudson_mohawke  138.97098                                butter   \n",
       "3       yerba_brava  145.05751                               de_culo   \n",
       "4        der_mystic  514.29832  rene_ablaze_presents_winter_sessions   \n",
       "\n",
       "               title    year  \n",
       "0       silent_night  2003.0  \n",
       "1        tanssi_vaan  1995.0  \n",
       "2  no_one_could_ever  2006.0  \n",
       "3       si_vos_quers  2003.0  \n",
       "4   tangle_of_aspens     NaN  "
      ]
     },
     "execution_count": 3,
     "metadata": {},
     "output_type": "execute_result"
    }
   ],
   "source": [
    "df.head()xxx"
   ]
  },
  {
   "cell_type": "code",
   "execution_count": 4,
   "metadata": {},
   "outputs": [
    {
     "data": {
      "text/html": [
       "<div>\n",
       "<style scoped>\n",
       "    .dataframe tbody tr th:only-of-type {\n",
       "        vertical-align: middle;\n",
       "    }\n",
       "\n",
       "    .dataframe tbody tr th {\n",
       "        vertical-align: top;\n",
       "    }\n",
       "\n",
       "    .dataframe thead th {\n",
       "        text-align: right;\n",
       "    }\n",
       "</style>\n",
       "<table border=\"1\" class=\"dataframe\">\n",
       "  <thead>\n",
       "    <tr style=\"text-align: right;\">\n",
       "      <th></th>\n",
       "      <th>artist_name</th>\n",
       "      <th>duration</th>\n",
       "      <th>release</th>\n",
       "      <th>title</th>\n",
       "      <th>year</th>\n",
       "    </tr>\n",
       "  </thead>\n",
       "  <tbody>\n",
       "    <tr>\n",
       "      <th>0</th>\n",
       "      <td>faster_pussy_cat</td>\n",
       "      <td>252.05506</td>\n",
       "      <td>monster_ballads_xmas</td>\n",
       "      <td>silent_night</td>\n",
       "      <td>2003.0</td>\n",
       "    </tr>\n",
       "    <tr>\n",
       "      <th>1</th>\n",
       "      <td>karkkiautomaatti</td>\n",
       "      <td>156.55138</td>\n",
       "      <td>karkuteill</td>\n",
       "      <td>tanssi_vaan</td>\n",
       "      <td>1995.0</td>\n",
       "    </tr>\n",
       "    <tr>\n",
       "      <th>2</th>\n",
       "      <td>hudson_mohawke</td>\n",
       "      <td>138.97098</td>\n",
       "      <td>butter</td>\n",
       "      <td>no_one_could_ever</td>\n",
       "      <td>2006.0</td>\n",
       "    </tr>\n",
       "    <tr>\n",
       "      <th>3</th>\n",
       "      <td>yerba_brava</td>\n",
       "      <td>145.05751</td>\n",
       "      <td>de_culo</td>\n",
       "      <td>si_vos_quers</td>\n",
       "      <td>2003.0</td>\n",
       "    </tr>\n",
       "    <tr>\n",
       "      <th>4</th>\n",
       "      <td>der_mystic</td>\n",
       "      <td>514.29832</td>\n",
       "      <td>rene_ablaze_presents_winter_sessions</td>\n",
       "      <td>tangle_of_aspens</td>\n",
       "      <td>NaN</td>\n",
       "    </tr>\n",
       "    <tr>\n",
       "      <th>...</th>\n",
       "      <td>...</td>\n",
       "      <td>...</td>\n",
       "      <td>...</td>\n",
       "      <td>...</td>\n",
       "      <td>...</td>\n",
       "    </tr>\n",
       "    <tr>\n",
       "      <th>99995</th>\n",
       "      <td>ruff_driverz</td>\n",
       "      <td>449.85424</td>\n",
       "      <td>total_workout_club_classics_1_extended_version...</td>\n",
       "      <td>waiting_for_the_sun</td>\n",
       "      <td>1999.0</td>\n",
       "    </tr>\n",
       "    <tr>\n",
       "      <th>99996</th>\n",
       "      <td>4_letter_holiday</td>\n",
       "      <td>191.65995</td>\n",
       "      <td>what_ive_come_across</td>\n",
       "      <td>what_ive_come_across</td>\n",
       "      <td>NaN</td>\n",
       "    </tr>\n",
       "    <tr>\n",
       "      <th>99997</th>\n",
       "      <td>guadalupe_pineda</td>\n",
       "      <td>217.80853</td>\n",
       "      <td>mexicanisimo</td>\n",
       "      <td>cuando_sale_la_luna</td>\n",
       "      <td>NaN</td>\n",
       "    </tr>\n",
       "    <tr>\n",
       "      <th>99998</th>\n",
       "      <td>ciaran_byrne</td>\n",
       "      <td>205.92281</td>\n",
       "      <td>galtrim</td>\n",
       "      <td>22_parasomnia</td>\n",
       "      <td>2006.0</td>\n",
       "    </tr>\n",
       "    <tr>\n",
       "      <th>99999</th>\n",
       "      <td>orange_sector</td>\n",
       "      <td>221.51791</td>\n",
       "      <td>masquerade</td>\n",
       "      <td>prisoner</td>\n",
       "      <td>1998.0</td>\n",
       "    </tr>\n",
       "  </tbody>\n",
       "</table>\n",
       "<p>100000 rows × 5 columns</p>\n",
       "</div>"
      ],
      "text/plain": [
       "            artist_name   duration   \n",
       "0      faster_pussy_cat  252.05506  \\\n",
       "1      karkkiautomaatti  156.55138   \n",
       "2        hudson_mohawke  138.97098   \n",
       "3           yerba_brava  145.05751   \n",
       "4            der_mystic  514.29832   \n",
       "...                 ...        ...   \n",
       "99995      ruff_driverz  449.85424   \n",
       "99996  4_letter_holiday  191.65995   \n",
       "99997  guadalupe_pineda  217.80853   \n",
       "99998      ciaran_byrne  205.92281   \n",
       "99999     orange_sector  221.51791   \n",
       "\n",
       "                                                 release   \n",
       "0                                   monster_ballads_xmas  \\\n",
       "1                                             karkuteill   \n",
       "2                                                 butter   \n",
       "3                                                de_culo   \n",
       "4                   rene_ablaze_presents_winter_sessions   \n",
       "...                                                  ...   \n",
       "99995  total_workout_club_classics_1_extended_version...   \n",
       "99996                               what_ive_come_across   \n",
       "99997                                       mexicanisimo   \n",
       "99998                                            galtrim   \n",
       "99999                                         masquerade   \n",
       "\n",
       "                      title    year  \n",
       "0              silent_night  2003.0  \n",
       "1               tanssi_vaan  1995.0  \n",
       "2         no_one_could_ever  2006.0  \n",
       "3              si_vos_quers  2003.0  \n",
       "4          tangle_of_aspens     NaN  \n",
       "...                     ...     ...  \n",
       "99995   waiting_for_the_sun  1999.0  \n",
       "99996  what_ive_come_across     NaN  \n",
       "99997   cuando_sale_la_luna     NaN  \n",
       "99998         22_parasomnia  2006.0  \n",
       "99999              prisoner  1998.0  \n",
       "\n",
       "[100000 rows x 5 columns]"
      ]
     },
     "execution_count": 4,
     "metadata": {},
     "output_type": "execute_result"
    }
   ],
   "source": [
    "df.iloc[:100000,:]"
   ]
  },
  {
   "cell_type": "code",
   "execution_count": 2,
   "metadata": {},
   "outputs": [],
   "source": [
    "'luca'.split()\n",
    "import re"
   ]
  },
  {
   "cell_type": "code",
   "execution_count": 3,
   "metadata": {},
   "outputs": [
    {
     "data": {
      "text/plain": [
       "['luca']"
      ]
     },
     "execution_count": 3,
     "metadata": {},
     "output_type": "execute_result"
    }
   ],
   "source": [
    "t = 'luca'\n",
    "re.split(' |_',t)\n"
   ]
  },
  {
   "cell_type": "code",
   "execution_count": 7,
   "metadata": {},
   "outputs": [
    {
     "data": {
      "text/plain": [
       "0.002"
      ]
     },
     "execution_count": 7,
     "metadata": {},
     "output_type": "execute_result"
    }
   ],
   "source": [
    "(0.0023 // 0.002)*0.002"
   ]
  },
  {
   "cell_type": "code",
   "execution_count": 9,
   "metadata": {},
   "outputs": [
    {
     "data": {
      "text/plain": [
       "500000"
      ]
     },
     "execution_count": 9,
     "metadata": {},
     "output_type": "execute_result"
    }
   ],
   "source": [
    "557898//100000*100000"
   ]
  },
  {
   "cell_type": "code",
   "execution_count": 10,
   "metadata": {},
   "outputs": [
    {
     "name": "stdout",
     "output_type": "stream",
     "text": [
      "4\n"
     ]
    }
   ],
   "source": [
    "import math\n",
    "\n",
    "def get_order_of_magnitude(number):\n",
    "    if number == 0:\n",
    "        return 0  # Logarithm of 0 is undefined, return 0 as the order of magnitude\n",
    "    else:\n",
    "        return int(math.floor(math.log10(abs(number))))\n",
    "\n",
    "# Esempio di utilizzo\n",
    "number = 12345\n",
    "order_of_magnitude = get_order_of_magnitude(number)\n",
    "print(order_of_magnitude)  # Output: 4"
   ]
  },
  {
   "cell_type": "code",
   "execution_count": 13,
   "metadata": {},
   "outputs": [
    {
     "data": {
      "text/plain": [
       "20000.0"
      ]
     },
     "execution_count": 13,
     "metadata": {},
     "output_type": "execute_result"
    }
   ],
   "source": [
    "n = float(\"23456\")\n",
    "div = 10 ** get_order_of_magnitude(n)\n",
    "n//div*div\n",
    "xxxx"
   ]
  },
  {
   "cell_type": "code",
   "execution_count": 22,
   "metadata": {},
   "outputs": [
    {
     "data": {
      "text/plain": [
       "False"
      ]
     },
     "execution_count": 22,
     "metadata": {},
     "output_type": "execute_result"
    }
   ],
   "source": [
    "\"589589,243\".isdigit()"
   ]
  },
  {
   "cell_type": "code",
   "execution_count": 23,
   "metadata": {},
   "outputs": [],
   "source": [
    "def is_float(string):\n",
    "    try:\n",
    "        float(string)\n",
    "        return True\n",
    "    except ValueError:\n",
    "        return False"
   ]
  },
  {
   "cell_type": "code",
   "execution_count": 25,
   "metadata": {},
   "outputs": [
    {
     "data": {
      "text/plain": [
       "<NA>"
      ]
     },
     "execution_count": 25,
     "metadata": {},
     "output_type": "execute_result"
    }
   ],
   "source": [
    "import pandas as pd\n",
    "pd.NA"
   ]
  },
  {
   "cell_type": "code",
   "execution_count": 26,
   "metadata": {},
   "outputs": [
    {
     "data": {
      "text/plain": [
       "1.0"
      ]
     },
     "execution_count": 26,
     "metadata": {},
     "output_type": "execute_result"
    }
   ],
   "source": [
    "float(True)"
   ]
  },
  {
   "cell_type": "code",
   "execution_count": 27,
   "metadata": {},
   "outputs": [
    {
     "data": {
      "text/plain": [
       "0.0"
      ]
     },
     "execution_count": 27,
     "metadata": {},
     "output_type": "execute_result"
    }
   ],
   "source": [
    "float(False)"
   ]
  },
  {
   "cell_type": "code",
   "execution_count": 28,
   "metadata": {},
   "outputs": [
    {
     "data": {
      "text/plain": [
       "'True'"
      ]
     },
     "execution_count": 28,
     "metadata": {},
     "output_type": "execute_result"
    }
   ],
   "source": [
    "str(True)"
   ]
  },
  {
   "cell_type": "code",
   "execution_count": 29,
   "metadata": {},
   "outputs": [
    {
     "ename": "TypeError",
     "evalue": "float() argument must be a string or a real number, not 'NAType'",
     "output_type": "error",
     "traceback": [
      "\u001b[1;31m---------------------------------------------------------------------------\u001b[0m",
      "\u001b[1;31mTypeError\u001b[0m                                 Traceback (most recent call last)",
      "Cell \u001b[1;32mIn[29], line 1\u001b[0m\n\u001b[1;32m----> 1\u001b[0m \u001b[39mfloat\u001b[39m(pd\u001b[39m.\u001b[39mNA)\n",
      "\u001b[1;31mTypeError\u001b[0m: float() argument must be a string or a real number, not 'NAType'"
     ]
    }
   ],
   "source": [
    "float(pd.NA)"
   ]
  },
  {
   "cell_type": "code",
   "execution_count": 30,
   "metadata": {},
   "outputs": [
    {
     "data": {
      "text/plain": [
       "'<NA>'"
      ]
     },
     "execution_count": 30,
     "metadata": {},
     "output_type": "execute_result"
    }
   ],
   "source": [
    "str(pd.NA)"
   ]
  },
  {
   "cell_type": "code",
   "execution_count": 32,
   "metadata": {},
   "outputs": [
    {
     "data": {
      "text/plain": [
       "False"
      ]
     },
     "execution_count": 32,
     "metadata": {},
     "output_type": "execute_result"
    }
   ],
   "source": [
    "isinstance(pd.NA, str)"
   ]
  },
  {
   "cell_type": "code",
   "execution_count": 38,
   "metadata": {},
   "outputs": [
    {
     "data": {
      "text/plain": [
       "True"
      ]
     },
     "execution_count": 38,
     "metadata": {},
     "output_type": "execute_result"
    }
   ],
   "source": [
    "import datetime\n",
    "None == None"
   ]
  },
  {
   "cell_type": "code",
   "execution_count": 40,
   "metadata": {},
   "outputs": [
    {
     "data": {
      "text/plain": [
       "<NA>"
      ]
     },
     "execution_count": 40,
     "metadata": {},
     "output_type": "execute_result"
    }
   ],
   "source": [
    "pd.NA == pd.NA"
   ]
  },
  {
   "cell_type": "code",
   "execution_count": 2,
   "metadata": {},
   "outputs": [],
   "source": [
    "import re"
   ]
  },
  {
   "cell_type": "code",
   "execution_count": 4,
   "metadata": {},
   "outputs": [],
   "source": [
    "out = 'luca|zecchini'"
   ]
  },
  {
   "cell_type": "code",
   "execution_count": 10,
   "metadata": {},
   "outputs": [
    {
     "data": {
      "text/plain": [
       "['luca', 'zecchini']"
      ]
     },
     "execution_count": 10,
     "metadata": {},
     "output_type": "execute_result"
    }
   ],
   "source": [
    "re.split(' |_|\\|', out)"
   ]
  },
  {
   "cell_type": "code",
   "execution_count": 3,
   "metadata": {},
   "outputs": [],
   "source": [
    "from graph import *"
   ]
  },
  {
   "cell_type": "code",
   "execution_count": 4,
   "metadata": {},
   "outputs": [],
   "source": [
    "g = Graph(directory_name=\"/home/francesco.pugnaloni/GeneralPurposeTableEmbedding/Tests/dblp_acm/Files\")"
   ]
  },
  {
   "cell_type": "code",
   "execution_count": 5,
   "metadata": {},
   "outputs": [
    {
     "data": {
      "text/plain": [
       "['at_id', 'at_title', 'at_venue', 'at_year', 'at_author']"
      ]
     },
     "execution_count": 5,
     "metadata": {},
     "output_type": "execute_result"
    }
   ],
   "source": [
    "[t for t in g.token_to_index.keys() if str(t).startswith(\"at_\")]"
   ]
  },
  {
   "cell_type": "code",
   "execution_count": 1,
   "metadata": {},
   "outputs": [],
   "source": [
    "import pandas as pd\n"
   ]
  },
  {
   "cell_type": "code",
   "execution_count": 2,
   "metadata": {},
   "outputs": [],
   "source": [
    "df=pd.read_csv('/home/francesco.pugnaloni/GeneralPurposeTableEmbedding/Tests/dblp_acm/Datasets/dblp_acm-tableA.csv')"
   ]
  },
  {
   "cell_type": "code",
   "execution_count": 3,
   "metadata": {},
   "outputs": [
    {
     "data": {
      "text/plain": [
       "Index(['id', 'title', 'venue', 'year', 'author_1', 'author_2', 'author_3',\n",
       "       'author_4'],\n",
       "      dtype='object')"
      ]
     },
     "execution_count": 3,
     "metadata": {},
     "output_type": "execute_result"
    }
   ],
   "source": [
    "df.columns"
   ]
  },
  {
   "cell_type": "code",
   "execution_count": 4,
   "metadata": {},
   "outputs": [
    {
     "data": {
      "text/plain": [
       "2003"
      ]
     },
     "execution_count": 4,
     "metadata": {},
     "output_type": "execute_result"
    }
   ],
   "source": [
    "max(df.loc[:,'year'])"
   ]
  },
  {
   "cell_type": "code",
   "execution_count": 5,
   "metadata": {},
   "outputs": [
    {
     "data": {
      "text/plain": [
       "1994"
      ]
     },
     "execution_count": 5,
     "metadata": {},
     "output_type": "execute_result"
    }
   ],
   "source": [
    "min(df.loc[:,'year'])"
   ]
  },
  {
   "cell_type": "code",
   "execution_count": 6,
   "metadata": {},
   "outputs": [
    {
     "data": {
      "text/html": [
       "<div>\n",
       "<style scoped>\n",
       "    .dataframe tbody tr th:only-of-type {\n",
       "        vertical-align: middle;\n",
       "    }\n",
       "\n",
       "    .dataframe tbody tr th {\n",
       "        vertical-align: top;\n",
       "    }\n",
       "\n",
       "    .dataframe thead th {\n",
       "        text-align: right;\n",
       "    }\n",
       "</style>\n",
       "<table border=\"1\" class=\"dataframe\">\n",
       "  <thead>\n",
       "    <tr style=\"text-align: right;\">\n",
       "      <th></th>\n",
       "      <th>id</th>\n",
       "      <th>title</th>\n",
       "      <th>venue</th>\n",
       "      <th>year</th>\n",
       "      <th>author_1</th>\n",
       "      <th>author_2</th>\n",
       "      <th>author_3</th>\n",
       "      <th>author_4</th>\n",
       "    </tr>\n",
       "  </thead>\n",
       "  <tbody>\n",
       "    <tr>\n",
       "      <th>0</th>\n",
       "      <td>journalssigmodmackay99</td>\n",
       "      <td>semantic_integration_of_environmental_models_f...</td>\n",
       "      <td>sigmod_record</td>\n",
       "      <td>1999</td>\n",
       "      <td>d_scott_mackay</td>\n",
       "      <td>NaN</td>\n",
       "      <td>NaN</td>\n",
       "      <td>NaN</td>\n",
       "    </tr>\n",
       "    <tr>\n",
       "      <th>1</th>\n",
       "      <td>confvldbpoosalai96</td>\n",
       "      <td>estimation_of_queryresult_distribution_and_its...</td>\n",
       "      <td>vldb</td>\n",
       "      <td>1996</td>\n",
       "      <td>viswanath_poosala</td>\n",
       "      <td>yannis_e_ioannidis</td>\n",
       "      <td>NaN</td>\n",
       "      <td>NaN</td>\n",
       "    </tr>\n",
       "    <tr>\n",
       "      <th>2</th>\n",
       "      <td>confvldbpalpanasscp02</td>\n",
       "      <td>incremental_maintenance_for_nondistributive_ag...</td>\n",
       "      <td>vldb</td>\n",
       "      <td>2002</td>\n",
       "      <td>themistoklis_palpanas</td>\n",
       "      <td>richard_sidle</td>\n",
       "      <td>hamid_pirahesh</td>\n",
       "      <td>roberta_cochrane</td>\n",
       "    </tr>\n",
       "    <tr>\n",
       "      <th>3</th>\n",
       "      <td>confvldbgardaringt96</td>\n",
       "      <td>costbased_selection_of_path_expression_process...</td>\n",
       "      <td>vldb</td>\n",
       "      <td>1996</td>\n",
       "      <td>zhaohui_tang</td>\n",
       "      <td>georges_gardarin</td>\n",
       "      <td>jeanrobert_gruser</td>\n",
       "      <td>NaN</td>\n",
       "    </tr>\n",
       "    <tr>\n",
       "      <th>4</th>\n",
       "      <td>confvldbhoels95</td>\n",
       "      <td>benchmarking_spatial_join_operations_with_spat...</td>\n",
       "      <td>vldb</td>\n",
       "      <td>1995</td>\n",
       "      <td>erik_g_hoel</td>\n",
       "      <td>hanan_samet</td>\n",
       "      <td>NaN</td>\n",
       "      <td>NaN</td>\n",
       "    </tr>\n",
       "    <tr>\n",
       "      <th>5</th>\n",
       "      <td>confsigmodkeim99</td>\n",
       "      <td>efficient_geometrybased_similarity_search_of_3...</td>\n",
       "      <td>sigmod_conference</td>\n",
       "      <td>1999</td>\n",
       "      <td>daniel_a_keim</td>\n",
       "      <td>NaN</td>\n",
       "      <td>NaN</td>\n",
       "      <td>NaN</td>\n",
       "    </tr>\n",
       "    <tr>\n",
       "      <th>6</th>\n",
       "      <td>journalssigmodouksel02</td>\n",
       "      <td>mining_the_world_wide_web_an_information_searc...</td>\n",
       "      <td>sigmod_record</td>\n",
       "      <td>2002</td>\n",
       "      <td>aris_m_ouksel</td>\n",
       "      <td>NaN</td>\n",
       "      <td>NaN</td>\n",
       "      <td>NaN</td>\n",
       "    </tr>\n",
       "    <tr>\n",
       "      <th>7</th>\n",
       "      <td>journalsvldbseshadri98</td>\n",
       "      <td>enhanced_abstract_data_types_in_objectrelation...</td>\n",
       "      <td>vldb_j</td>\n",
       "      <td>1998</td>\n",
       "      <td>praveen_seshadri</td>\n",
       "      <td>NaN</td>\n",
       "      <td>NaN</td>\n",
       "      <td>NaN</td>\n",
       "    </tr>\n",
       "    <tr>\n",
       "      <th>8</th>\n",
       "      <td>journalssigmodramamrithams97</td>\n",
       "      <td>report_on_dart_96_databases_active_and_realtim...</td>\n",
       "      <td>sigmod_record</td>\n",
       "      <td>1997</td>\n",
       "      <td>nandit_soparkar</td>\n",
       "      <td>krithi_ramamritham</td>\n",
       "      <td>NaN</td>\n",
       "      <td>NaN</td>\n",
       "    </tr>\n",
       "    <tr>\n",
       "      <th>9</th>\n",
       "      <td>journalssigmoddandreaj96</td>\n",
       "      <td>unisqls_nextgeneration_objectrelational_databa...</td>\n",
       "      <td>sigmod_record</td>\n",
       "      <td>1996</td>\n",
       "      <td>phil_janus</td>\n",
       "      <td>albert_dandrea</td>\n",
       "      <td>NaN</td>\n",
       "      <td>NaN</td>\n",
       "    </tr>\n",
       "  </tbody>\n",
       "</table>\n",
       "</div>"
      ],
      "text/plain": [
       "                             id   \n",
       "0        journalssigmodmackay99  \\\n",
       "1            confvldbpoosalai96   \n",
       "2         confvldbpalpanasscp02   \n",
       "3          confvldbgardaringt96   \n",
       "4               confvldbhoels95   \n",
       "5              confsigmodkeim99   \n",
       "6        journalssigmodouksel02   \n",
       "7        journalsvldbseshadri98   \n",
       "8  journalssigmodramamrithams97   \n",
       "9      journalssigmoddandreaj96   \n",
       "\n",
       "                                               title              venue  year   \n",
       "0  semantic_integration_of_environmental_models_f...      sigmod_record  1999  \\\n",
       "1  estimation_of_queryresult_distribution_and_its...               vldb  1996   \n",
       "2  incremental_maintenance_for_nondistributive_ag...               vldb  2002   \n",
       "3  costbased_selection_of_path_expression_process...               vldb  1996   \n",
       "4  benchmarking_spatial_join_operations_with_spat...               vldb  1995   \n",
       "5  efficient_geometrybased_similarity_search_of_3...  sigmod_conference  1999   \n",
       "6  mining_the_world_wide_web_an_information_searc...      sigmod_record  2002   \n",
       "7  enhanced_abstract_data_types_in_objectrelation...             vldb_j  1998   \n",
       "8  report_on_dart_96_databases_active_and_realtim...      sigmod_record  1997   \n",
       "9  unisqls_nextgeneration_objectrelational_databa...      sigmod_record  1996   \n",
       "\n",
       "                author_1            author_2           author_3   \n",
       "0         d_scott_mackay                 NaN                NaN  \\\n",
       "1      viswanath_poosala  yannis_e_ioannidis                NaN   \n",
       "2  themistoklis_palpanas       richard_sidle     hamid_pirahesh   \n",
       "3           zhaohui_tang    georges_gardarin  jeanrobert_gruser   \n",
       "4            erik_g_hoel         hanan_samet                NaN   \n",
       "5          daniel_a_keim                 NaN                NaN   \n",
       "6          aris_m_ouksel                 NaN                NaN   \n",
       "7       praveen_seshadri                 NaN                NaN   \n",
       "8        nandit_soparkar  krithi_ramamritham                NaN   \n",
       "9             phil_janus      albert_dandrea                NaN   \n",
       "\n",
       "           author_4  \n",
       "0               NaN  \n",
       "1               NaN  \n",
       "2  roberta_cochrane  \n",
       "3               NaN  \n",
       "4               NaN  \n",
       "5               NaN  \n",
       "6               NaN  \n",
       "7               NaN  \n",
       "8               NaN  \n",
       "9               NaN  "
      ]
     },
     "execution_count": 6,
     "metadata": {},
     "output_type": "execute_result"
    }
   ],
   "source": [
    "df.head(10)"
   ]
  },
  {
   "cell_type": "code",
   "execution_count": 7,
   "metadata": {},
   "outputs": [
    {
     "data": {
      "text/plain": [
       "nan"
      ]
     },
     "execution_count": 7,
     "metadata": {},
     "output_type": "execute_result"
    }
   ],
   "source": [
    "df.iloc[0,6]"
   ]
  },
  {
   "cell_type": "code",
   "execution_count": 8,
   "metadata": {},
   "outputs": [
    {
     "data": {
      "text/plain": [
       "nan"
      ]
     },
     "execution_count": 8,
     "metadata": {},
     "output_type": "execute_result"
    }
   ],
   "source": [
    "float(df.iloc[0,6])"
   ]
  },
  {
   "cell_type": "code",
   "execution_count": 9,
   "metadata": {},
   "outputs": [
    {
     "data": {
      "text/plain": [
       "float"
      ]
     },
     "execution_count": 9,
     "metadata": {},
     "output_type": "execute_result"
    }
   ],
   "source": [
    "type(df.iloc[0,6])"
   ]
  },
  {
   "cell_type": "code",
   "execution_count": 10,
   "metadata": {},
   "outputs": [
    {
     "data": {
      "text/plain": [
       "False"
      ]
     },
     "execution_count": 10,
     "metadata": {},
     "output_type": "execute_result"
    }
   ],
   "source": [
    "df.iloc[0,6] == None"
   ]
  },
  {
   "cell_type": "code",
   "execution_count": 11,
   "metadata": {},
   "outputs": [
    {
     "ename": "ValueError",
     "evalue": "cannot convert float NaN to integer",
     "output_type": "error",
     "traceback": [
      "\u001b[0;31m---------------------------------------------------------------------------\u001b[0m",
      "\u001b[0;31mValueError\u001b[0m                                Traceback (most recent call last)",
      "Cell \u001b[0;32mIn[11], line 2\u001b[0m\n\u001b[1;32m      1\u001b[0m \u001b[39mimport\u001b[39;00m \u001b[39mmath\u001b[39;00m\n\u001b[0;32m----> 2\u001b[0m math\u001b[39m.\u001b[39;49mfloor(math\u001b[39m.\u001b[39;49mlog10(\u001b[39mabs\u001b[39;49m(\u001b[39mfloat\u001b[39;49m(df\u001b[39m.\u001b[39;49miloc[\u001b[39m0\u001b[39;49m,\u001b[39m6\u001b[39;49m]))))\n",
      "\u001b[0;31mValueError\u001b[0m: cannot convert float NaN to integer"
     ]
    }
   ],
   "source": [
    "import math\n",
    "math.floor(math.log10(abs(float(df.iloc[0,6]))))"
   ]
  },
  {
   "cell_type": "code",
   "execution_count": 12,
   "metadata": {},
   "outputs": [
    {
     "data": {
      "text/plain": [
       "nan"
      ]
     },
     "execution_count": 12,
     "metadata": {},
     "output_type": "execute_result"
    }
   ],
   "source": [
    "math.log10(abs(float(df.iloc[0,6])))"
   ]
  },
  {
   "cell_type": "code",
   "execution_count": 14,
   "metadata": {},
   "outputs": [
    {
     "data": {
      "text/plain": [
       "True"
      ]
     },
     "execution_count": 14,
     "metadata": {},
     "output_type": "execute_result"
    }
   ],
   "source": [
    "pd.isnull(None)"
   ]
  },
  {
   "cell_type": "code",
   "execution_count": 16,
   "metadata": {},
   "outputs": [],
   "source": [
    "df=pd.read_csv('/home/francesco.pugnaloni/GeneralPurposeTableEmbedding/Tests/WA/Datasets/walmart_amazon-tableB.csv')"
   ]
  },
  {
   "cell_type": "code",
   "execution_count": 18,
   "metadata": {},
   "outputs": [],
   "source": [
    "val = df.iloc[7861,3]"
   ]
  },
  {
   "cell_type": "code",
   "execution_count": 23,
   "metadata": {},
   "outputs": [
    {
     "data": {
      "text/plain": [
       "id                                                       7861\n",
       "title       infinity_basslink_200watt_dual_10_powered_subw...\n",
       "category                                 component_subwoofers\n",
       "brand                                                infinity\n",
       "modelno                                              basslink\n",
       "price                                                  188.58\n",
       "Name: 7861, dtype: object"
      ]
     },
     "execution_count": 23,
     "metadata": {},
     "output_type": "execute_result"
    }
   ],
   "source": [
    "df.iloc[7861, :]"
   ]
  },
  {
   "cell_type": "code",
   "execution_count": 21,
   "metadata": {},
   "outputs": [
    {
     "data": {
      "text/plain": [
       "'infinity'"
      ]
     },
     "execution_count": 21,
     "metadata": {},
     "output_type": "execute_result"
    }
   ],
   "source": [
    "val"
   ]
  },
  {
   "cell_type": "code",
   "execution_count": 19,
   "metadata": {},
   "outputs": [
    {
     "data": {
      "text/plain": [
       "str"
      ]
     },
     "execution_count": 19,
     "metadata": {},
     "output_type": "execute_result"
    }
   ],
   "source": [
    "type(val)"
   ]
  },
  {
   "cell_type": "code",
   "execution_count": 22,
   "metadata": {},
   "outputs": [
    {
     "data": {
      "text/plain": [
       "float"
      ]
     },
     "execution_count": 22,
     "metadata": {},
     "output_type": "execute_result"
    }
   ],
   "source": [
    "type(float(val))"
   ]
  },
  {
   "cell_type": "code",
   "execution_count": 24,
   "metadata": {},
   "outputs": [
    {
     "data": {
      "text/plain": [
       "(22074, 6)"
      ]
     },
     "execution_count": 24,
     "metadata": {},
     "output_type": "execute_result"
    }
   ],
   "source": [
    "df.shape"
   ]
  },
  {
   "cell_type": "code",
   "execution_count": 1,
   "metadata": {},
   "outputs": [
    {
     "name": "stderr",
     "output_type": "stream",
     "text": [
      "/home/francesco.pugnaloni/anaconda3/envs/HPIPyG/lib/python3.11/site-packages/tqdm/auto.py:21: TqdmWarning: IProgress not found. Please update jupyter and ipywidgets. See https://ipywidgets.readthedocs.io/en/stable/user_install.html\n",
      "  from .autonotebook import tqdm as notebook_tqdm\n"
     ]
    }
   ],
   "source": [
    "import torch\n",
    "from transformers import BertModel, BertTokenizer"
   ]
  },
  {
   "cell_type": "code",
   "execution_count": 2,
   "metadata": {},
   "outputs": [],
   "source": [
    "tokenizer = BertTokenizer.from_pretrained('bert-base-uncased')"
   ]
  },
  {
   "cell_type": "code",
   "execution_count": 4,
   "metadata": {},
   "outputs": [
    {
     "name": "stdout",
     "output_type": "stream",
     "text": [
      "granola_ids [101, 12604, 6030, 6963, 102]\n",
      "type of granola_ids <class 'list'>\n",
      "granola_tokens ['[CLS]', 'gran', '##ola', 'bars', '[SEP]']\n"
     ]
    }
   ],
   "source": [
    "# Convert the string \"granola bars\" to tokenized vocabulary IDs\n",
    "granola_ids = tokenizer.encode('granola bars')\n",
    "# Print the IDs\n",
    "print('granola_ids', granola_ids)\n",
    "print('type of granola_ids', type(granola_ids))\n",
    "# Convert the IDs to the actual vocabulary item\n",
    "# Notice how the subword unit (suffix) starts with \"##\" to indicate \n",
    "# that it is part of the previous string\n",
    "print('granola_tokens', tokenizer.convert_ids_to_tokens(granola_ids))"
   ]
  },
  {
   "cell_type": "code",
   "execution_count": 5,
   "metadata": {},
   "outputs": [
    {
     "data": {
      "text/plain": [
       "list"
      ]
     },
     "execution_count": 5,
     "metadata": {},
     "output_type": "execute_result"
    }
   ],
   "source": [
    "type(granola_ids)"
   ]
  },
  {
   "cell_type": "code",
   "execution_count": 6,
   "metadata": {},
   "outputs": [
    {
     "name": "stdout",
     "output_type": "stream",
     "text": [
      "granola_ids tensor([  101, 12604,  6030,  6963,   102])\n",
      "type of granola_ids <class 'torch.Tensor'>\n"
     ]
    }
   ],
   "source": [
    "\n",
    "# Convert the list of IDs to a tensor of IDs \n",
    "granola_ids = torch.LongTensor(granola_ids)\n",
    "# Print the IDs\n",
    "print('granola_ids', granola_ids)\n",
    "print('type of granola_ids', type(granola_ids))"
   ]
  },
  {
   "cell_type": "code",
   "execution_count": 1,
   "metadata": {},
   "outputs": [
    {
     "name": "stderr",
     "output_type": "stream",
     "text": [
      "/home/francesco.pugnaloni/anaconda3/envs/HPIPyG/lib/python3.11/site-packages/tqdm/auto.py:21: TqdmWarning: IProgress not found. Please update jupyter and ipywidgets. See https://ipywidgets.readthedocs.io/en/stable/user_install.html\n",
      "  from .autonotebook import tqdm as notebook_tqdm\n",
      "Some weights of the model checkpoint at bert-base-uncased were not used when initializing BertModel: ['cls.predictions.transform.dense.weight', 'cls.predictions.transform.LayerNorm.bias', 'cls.predictions.decoder.weight', 'cls.seq_relationship.weight', 'cls.predictions.transform.dense.bias', 'cls.predictions.transform.LayerNorm.weight', 'cls.seq_relationship.bias', 'cls.predictions.bias']\n",
      "- This IS expected if you are initializing BertModel from the checkpoint of a model trained on another task or with another architecture (e.g. initializing a BertForSequenceClassification model from a BertForPreTraining model).\n",
      "- This IS NOT expected if you are initializing BertModel from the checkpoint of a model that you expect to be exactly identical (initializing a BertForSequenceClassification model from a BertForSequenceClassification model).\n"
     ]
    }
   ],
   "source": [
    "import torch\n",
    "from transformers import BertModel, BertTokenizer\n",
    "from bert_embeddings import *"
   ]
  },
  {
   "cell_type": "code",
   "execution_count": 16,
   "metadata": {},
   "outputs": [
    {
     "name": "stderr",
     "output_type": "stream",
     "text": [
      "Some weights of the model checkpoint at bert-base-uncased were not used when initializing BertModel: ['cls.predictions.transform.LayerNorm.weight', 'cls.predictions.decoder.weight', 'cls.predictions.bias', 'cls.seq_relationship.weight', 'cls.seq_relationship.bias', 'cls.predictions.transform.LayerNorm.bias', 'cls.predictions.transform.dense.bias', 'cls.predictions.transform.dense.weight']\n",
      "- This IS expected if you are initializing BertModel from the checkpoint of a model trained on another task or with another architecture (e.g. initializing a BertForSequenceClassification model from a BertForPreTraining model).\n",
      "- This IS NOT expected if you are initializing BertModel from the checkpoint of a model that you expect to be exactly identical (initializing a BertForSequenceClassification model from a BertForSequenceClassification model).\n"
     ]
    },
    {
     "name": "stdout",
     "output_type": "stream",
     "text": [
      "tensor(0.9655, device='cuda:0')\n",
      "torch.Size([4, 768])\n"
     ]
    }
   ],
   "source": [
    "    s1 = 'i gatti sono animali'\n",
    "    s2 = 'i cani sono animali'\n",
    "    s3 = 'cats are animals'\n",
    "    s4 = 'l\\'acciaio non è un essere vivente'\n",
    "    l = [s1,s2,s3,s4]\n",
    "    bert = Bert_Embedding_Generator()\n",
    "    emb_matrix = bert(l, strategy='average')\n",
    "\n",
    "\n",
    "    cosi = torch.nn.CosineSimilarity(dim=0)\n",
    "    distance = cosi(emb_matrix[0],emb_matrix[1])\n",
    "    print(distance)\n",
    "    print(emb_matrix.shape)"
   ]
  },
  {
   "cell_type": "code",
   "execution_count": 18,
   "metadata": {},
   "outputs": [
    {
     "data": {
      "text/plain": [
       "tensor(0.9655, device='cuda:0')"
      ]
     },
     "execution_count": 18,
     "metadata": {},
     "output_type": "execute_result"
    }
   ],
   "source": [
    "cosi(emb_matrix[0],emb_matrix[1])"
   ]
  },
  {
   "cell_type": "code",
   "execution_count": 19,
   "metadata": {},
   "outputs": [
    {
     "data": {
      "text/plain": [
       "tensor(0.6008, device='cuda:0')"
      ]
     },
     "execution_count": 19,
     "metadata": {},
     "output_type": "execute_result"
    }
   ],
   "source": [
    "cosi(emb_matrix[0],emb_matrix[2])"
   ]
  },
  {
   "cell_type": "code",
   "execution_count": 20,
   "metadata": {},
   "outputs": [
    {
     "data": {
      "text/plain": [
       "tensor(0.3276, device='cuda:0')"
      ]
     },
     "execution_count": 20,
     "metadata": {},
     "output_type": "execute_result"
    }
   ],
   "source": [
    "cosi(emb_matrix[2],emb_matrix[3])"
   ]
  },
  {
   "cell_type": "code",
   "execution_count": 21,
   "metadata": {},
   "outputs": [
    {
     "data": {
      "text/plain": [
       "tensor(0.7842, device='cuda:0')"
      ]
     },
     "execution_count": 21,
     "metadata": {},
     "output_type": "execute_result"
    }
   ],
   "source": [
    "cosi(emb_matrix[0],emb_matrix[3])"
   ]
  },
  {
   "cell_type": "code",
   "execution_count": 8,
   "metadata": {},
   "outputs": [
    {
     "name": "stderr",
     "output_type": "stream",
     "text": [
      "Some weights of the model checkpoint at bert-base-uncased were not used when initializing BertModel: ['cls.predictions.transform.dense.weight', 'cls.predictions.transform.LayerNorm.bias', 'cls.predictions.decoder.weight', 'cls.seq_relationship.weight', 'cls.predictions.transform.dense.bias', 'cls.predictions.transform.LayerNorm.weight', 'cls.seq_relationship.bias', 'cls.predictions.bias']\n",
      "- This IS expected if you are initializing BertModel from the checkpoint of a model trained on another task or with another architecture (e.g. initializing a BertForSequenceClassification model from a BertForPreTraining model).\n",
      "- This IS NOT expected if you are initializing BertModel from the checkpoint of a model that you expect to be exactly identical (initializing a BertForSequenceClassification model from a BertForSequenceClassification model).\n"
     ]
    }
   ],
   "source": [
    "s1 = 'i gatti sono animali'\n",
    "s2 = 'i cani sono animali'\n",
    "s3 = 'cats are animals'\n",
    "s4 = 'l\\'acciaio non è un essere vivente'\n",
    "l1 = [s1]\n",
    "l2 = [s2]\n",
    "l3 = [s3]\n",
    "l4 = [s4]\n",
    "bert = Bert_Embedding_Generator()\n",
    "\n",
    "e1 = bert(l1, strategy='average')\n",
    "e2 = bert(l2, strategy='average')\n",
    "e3 = bert(l3, strategy='average')\n",
    "e4 = bert(l4, strategy='average')"
   ]
  },
  {
   "cell_type": "code",
   "execution_count": 9,
   "metadata": {},
   "outputs": [
    {
     "data": {
      "text/plain": [
       "tensor(0.9390, device='cuda:0')"
      ]
     },
     "execution_count": 9,
     "metadata": {},
     "output_type": "execute_result"
    }
   ],
   "source": [
    "cosi = torch.nn.CosineSimilarity(dim=0)\n",
    "cosi(e1,e2)"
   ]
  },
  {
   "cell_type": "code",
   "execution_count": 10,
   "metadata": {},
   "outputs": [
    {
     "data": {
      "text/plain": [
       "tensor(0.5246, device='cuda:0')"
      ]
     },
     "execution_count": 10,
     "metadata": {},
     "output_type": "execute_result"
    }
   ],
   "source": [
    "cosi(e1,e3)"
   ]
  },
  {
   "cell_type": "code",
   "execution_count": 11,
   "metadata": {},
   "outputs": [
    {
     "data": {
      "text/plain": [
       "tensor(0.8503, device='cuda:0')"
      ]
     },
     "execution_count": 11,
     "metadata": {},
     "output_type": "execute_result"
    }
   ],
   "source": [
    "cosi(e1,e4)"
   ]
  },
  {
   "cell_type": "code",
   "execution_count": null,
   "metadata": {},
   "outputs": [],
   "source": []
  }
 ],
 "metadata": {
  "kernelspec": {
   "display_name": "HPIMaster",
   "language": "python",
   "name": "python3"
  },
  "language_info": {
   "codemirror_mode": {
    "name": "ipython",
    "version": 3
   },
   "file_extension": ".py",
   "mimetype": "text/x-python",
   "name": "python",
   "nbconvert_exporter": "python",
   "pygments_lexer": "ipython3",
   "version": "3.11.3"
  },
  "orig_nbformat": 4
 },
 "nbformat": 4,
 "nbformat_minor": 2
}
