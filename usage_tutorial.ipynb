{
 "cells": [
  {
   "attachments": {},
   "cell_type": "markdown",
   "metadata": {},
   "source": [
    "# Entity Resolution With Pytorch Geometric: usage guide"
   ]
  },
  {
   "attachments": {},
   "cell_type": "markdown",
   "metadata": {},
   "source": [
    "## Clean to clean entity resolution"
   ]
  },
  {
   "attachments": {},
   "cell_type": "markdown",
   "metadata": {},
   "source": [
    "In this section is explained how to use the library to perform the \"entity resolution\" task in a \"clean to clean\" situation, i.e., finding tuples that refers to the same entities assuming that there are not \"matches\" inside the same table. "
   ]
  },
  {
   "attachments": {},
   "cell_type": "markdown",
   "metadata": {},
   "source": [
    "The assumptions on the data are the following:\n",
    "* We are working with exactly two datasets\n",
    "* There are not matches between tuples contained in the same dataset\n",
    "* The datasets and the graph generated from them can fit in memory"
   ]
  },
  {
   "attachments": {},
   "cell_type": "markdown",
   "metadata": {},
   "source": [
    "Necessary imports:"
   ]
  },
  {
   "cell_type": "code",
   "execution_count": 1,
   "metadata": {},
   "outputs": [
    {
     "name": "stderr",
     "output_type": "stream",
     "text": [
      "/home/francesco.pugnaloni/anaconda3/envs/HPIPyG/lib/python3.11/site-packages/tqdm/auto.py:21: TqdmWarning: IProgress not found. Please update jupyter and ipywidgets. See https://ipywidgets.readthedocs.io/en/stable/user_install.html\n",
      "  from .autonotebook import tqdm as notebook_tqdm\n"
     ]
    }
   ],
   "source": [
    "from entity_resolution import *"
   ]
  },
  {
   "attachments": {},
   "cell_type": "markdown",
   "metadata": {},
   "source": [
    "The function: one_to_one_clean_ER"
   ]
  },
  {
   "attachments": {},
   "cell_type": "markdown",
   "metadata": {},
   "source": [
    "Parameters:\n",
    "- dfpathA (str): path to the first dataset \n",
    "- dfpathB (str): path to the second dataset\n",
    "- p (int): higher values improve exploration during the generation of random walks--optional, default is 20\n",
    "- q (int): lower values improve exploration during the generation of random walks--optional, default is 1\n",
    "- n_similar (int): maximum number of closest tuples to find--optional, default is 10\n",
    "- walks_per_node (int): number of random walks to generate for each node in the graph--optional, default is 20\n",
    "- n_top (int): number of closest tuples to find (<= n_similar)--optional, default is 10\n",
    "- embedding_size (int): the size of the node embeddings--optional, default is 128\n",
    "- walk_length (int): length of the generated rnadom walks--optional, default is 10\n",
    "- use_faiss (bool): if True tells to use faiss to find the top n closest nodes--optional, default is True\n",
    "- file_directory (str): directory where to save the intermediate data--optional, default is None\n",
    "- load_embedding_file (bool): if true tells to load the embeddings from the file_directory skipping training--optional, default is False--set True only if you are also providing a file_directory containing the required data\n",
    "- load_graph (bool): if true tells to load the graph from the file_directory skipping its generation--optional, default is False--set True only if you are also providing a file_directory containing the required data\n",
    "- load_n_best (bool): if true tells to load the embeddings from the file_directory skipping their computation--optional, default is False--set True only if you are also providing a file_directory containing the required data"
   ]
  },
  {
   "attachments": {},
   "cell_type": "markdown",
   "metadata": {},
   "source": [
    "Output: a set of couples in the format (tp\\_\"table\\_from\\_i\"\\_\"index\\_j\", tp\\_\"table\\_from\\_m\"\\_\"index\\_n\"), these tuples represent the matches found between the two dataset"
   ]
  },
  {
   "attachments": {},
   "cell_type": "markdown",
   "metadata": {},
   "source": [
    "Example: the datasets used in the example are \"fodors_zagats-tableA\" and \"fodors_zagats-tableB\"  "
   ]
  },
  {
   "cell_type": "code",
   "execution_count": 6,
   "metadata": {},
   "outputs": [
    {
     "name": "stderr",
     "output_type": "stream",
     "text": [
      "[nltk_data] Downloading package stopwords to\n",
      "[nltk_data]     /home/francesco.pugnaloni/nltk_data...\n",
      "[nltk_data]   Package stopwords is already up-to-date!\n"
     ]
    },
    {
     "name": "stdout",
     "output_type": "stream",
     "text": [
      "Number of walks: 2889\n",
      "Training is starting\n",
      "T_exec embedding generation: 0.007547855377197266s\n",
      "Using faiss\n"
     ]
    }
   ],
   "source": [
    "matches = one_to_one_clean_ER(r\"/home/francesco.pugnaloni/EntityResolutionWithPyG/Tests/FZ/Datasets/fodors_zagats-tableA.csv\", r\"/home/francesco.pugnaloni/EntityResolutionWithPyG/Tests/FZ/Datasets/fodors_zagats-tableB.csv\",file_directory=r\"/home/francesco.pugnaloni/EntityResolutionWithPyG/Tests/FZ/Files\", n_epochs=100)"
   ]
  },
  {
   "cell_type": "code",
   "execution_count": 7,
   "metadata": {},
   "outputs": [],
   "source": [
    "l = [t for t in matches]"
   ]
  },
  {
   "attachments": {},
   "cell_type": "markdown",
   "metadata": {},
   "source": [
    "Output visualization:"
   ]
  },
  {
   "cell_type": "code",
   "execution_count": 8,
   "metadata": {},
   "outputs": [
    {
     "data": {
      "text/plain": [
       "[('tp_A_81', 'tp_B_263'),\n",
       " ('tp_A_268', 'tp_B_250'),\n",
       " ('tp_A_223', 'tp_B_214'),\n",
       " ('tp_A_88', 'tp_B_12'),\n",
       " ('tp_A_13', 'tp_B_89'),\n",
       " ('tp_A_65', 'tp_B_218'),\n",
       " ('tp_A_45', 'tp_B_228'),\n",
       " ('tp_A_429', 'tp_B_322'),\n",
       " ('tp_A_270', 'tp_B_249'),\n",
       " ('tp_A_129', 'tp_B_223')]"
      ]
     },
     "execution_count": 8,
     "metadata": {},
     "output_type": "execute_result"
    }
   ],
   "source": [
    "l[0:10]"
   ]
  },
  {
   "attachments": {},
   "cell_type": "markdown",
   "metadata": {},
   "source": [
    "## Free Entity Resolution"
   ]
  },
  {
   "attachments": {},
   "cell_type": "markdown",
   "metadata": {},
   "source": [
    "In this section is explained how to use the library to perform the \"entity resolution\" task in a \"free\" situation, i.e., finding tuples that refers to the same entities provided an arbitrary number of input tables, in this case matches between tuples in the same table are possible. "
   ]
  },
  {
   "attachments": {},
   "cell_type": "markdown",
   "metadata": {},
   "source": [
    "The only assumption is that both the table and the graph generated from the will fit in memory"
   ]
  },
  {
   "attachments": {},
   "cell_type": "markdown",
   "metadata": {},
   "source": [
    "Necessary imports:"
   ]
  },
  {
   "cell_type": "code",
   "execution_count": 1,
   "metadata": {},
   "outputs": [
    {
     "name": "stderr",
     "output_type": "stream",
     "text": [
      "/home/francesco.pugnaloni/anaconda3/envs/HPIPyG/lib/python3.11/site-packages/tqdm/auto.py:21: TqdmWarning: IProgress not found. Please update jupyter and ipywidgets. See https://ipywidgets.readthedocs.io/en/stable/user_install.html\n",
      "  from .autonotebook import tqdm as notebook_tqdm\n"
     ]
    }
   ],
   "source": [
    "from entity_resolution import *"
   ]
  },
  {
   "attachments": {},
   "cell_type": "markdown",
   "metadata": {},
   "source": [
    "The function: free_entity_resolution"
   ]
  },
  {
   "attachments": {},
   "cell_type": "markdown",
   "metadata": {},
   "source": [
    "Parameters:\n",
    "- df_list (list): list of the paths to the dataframes to process \n",
    "- file_directory (str): directory where to save the intermediate data--optional, default is None\n",
    "- n_epochs (int): the number of training epochs--optional, default is 100\n",
    "- p (int): higher values improve exploration during the generation of random walks--optional, default is 20\n",
    "- q (int): lower values improve exploration during the generation of random walks--optional, default is 1\n",
    "- n_top (int): number of closest tuples to find (<= n_similar)--optional, default is 10\n",
    "- embedding_size (int): the size of the node embeddings--optional, default is 128\n",
    "- walk_length (int): length of the generated rnadom walks--optional, default is 10\n",
    "- load_embedding_file (boolean): if true tells to load the embeddings from the file_directory skipping training--optional, default is False--set True only if you are also providing a file_directory containing the required data\n",
    "- load_graph (boolean): if true tells to load the graph from the file_directory skipping its generation--optional, default is False--set True only if you are also providing a file_directory containing the required data"
   ]
  },
  {
   "attachments": {},
   "cell_type": "markdown",
   "metadata": {},
   "source": [
    "Output: a set of couples in the format (tp\\_\"index\\_table\\_from\\_i\"\\_\"index\\_j\", tp\\_\"index\\_table\\_from\\_m\"\\_\"index\\_n\"), these tuples represent the matches found between the datasets, it is important to notice that the dataset which the tuple refers to is shown as an index that correspond to the position of the dataframe path in the input_list"
   ]
  },
  {
   "attachments": {},
   "cell_type": "markdown",
   "metadata": {},
   "source": [
    "Example: the datasets used in the example are \"fodors_zagats-tableA\" and \"fodors_zagats-tableB\""
   ]
  },
  {
   "cell_type": "code",
   "execution_count": 2,
   "metadata": {},
   "outputs": [
    {
     "name": "stderr",
     "output_type": "stream",
     "text": [
      "[nltk_data] Downloading package stopwords to\n",
      "[nltk_data]     /home/francesco.pugnaloni/nltk_data...\n",
      "[nltk_data]   Package stopwords is already up-to-date!\n"
     ]
    },
    {
     "name": "stdout",
     "output_type": "stream",
     "text": [
      "Number of walks: 2889\n",
      "Training is starting\n",
      "Epoch: 01, Loss: 9.7361, time passed since start: 0.6577680110931396s, t_exec last epoch: 0.6255474090576172s\n",
      "Epoch: 02, Loss: 8.8841, time passed since start: 1.1624491214752197s, t_exec last epoch: 0.5046124458312988s\n",
      "Epoch: 03, Loss: 8.1850, time passed since start: 1.6680190563201904s, t_exec last epoch: 0.5055027008056641s\n",
      "Epoch: 04, Loss: 7.6015, time passed since start: 2.1728436946868896s, t_exec last epoch: 0.5047557353973389s\n",
      "Epoch: 05, Loss: 7.0035, time passed since start: 2.6744203567504883s, t_exec last epoch: 0.5015084743499756s\n",
      "Epoch: 06, Loss: 6.5263, time passed since start: 3.117095947265625s, t_exec last epoch: 0.44260740280151367s\n",
      "Epoch: 07, Loss: 6.0512, time passed since start: 3.619380235671997s, t_exec last epoch: 0.5022053718566895s\n",
      "Epoch: 08, Loss: 5.6157, time passed since start: 4.070436000823975s, t_exec last epoch: 0.45098233222961426s\n",
      "Epoch: 09, Loss: 5.2163, time passed since start: 4.575002670288086s, t_exec last epoch: 0.5044937133789062s\n",
      "Epoch: 10, Loss: 4.8493, time passed since start: 5.089191913604736s, t_exec last epoch: 0.5141136646270752s\n",
      "Epoch: 11, Loss: 4.5084, time passed since start: 5.597266435623169s, t_exec last epoch: 0.5080065727233887s\n",
      "Epoch: 12, Loss: 4.2198, time passed since start: 6.116833686828613s, t_exec last epoch: 0.5194976329803467s\n",
      "Epoch: 13, Loss: 3.9317, time passed since start: 6.640525579452515s, t_exec last epoch: 0.523622989654541s\n",
      "Epoch: 14, Loss: 3.6779, time passed since start: 7.16548228263855s, t_exec last epoch: 0.5248889923095703s\n",
      "Epoch: 15, Loss: 3.4555, time passed since start: 7.688413143157959s, t_exec last epoch: 0.5228641033172607s\n",
      "Epoch: 16, Loss: 3.2464, time passed since start: 8.213149309158325s, t_exec last epoch: 0.5246682167053223s\n",
      "Epoch: 17, Loss: 3.0644, time passed since start: 8.667961359024048s, t_exec last epoch: 0.4547431468963623s\n",
      "Epoch: 18, Loss: 2.8907, time passed since start: 9.195353984832764s, t_exec last epoch: 0.5273215770721436s\n",
      "Epoch: 19, Loss: 2.7399, time passed since start: 9.67197060585022s, t_exec last epoch: 0.4765465259552002s\n",
      "Epoch: 20, Loss: 2.5874, time passed since start: 10.203957557678223s, t_exec last epoch: 0.5319197177886963s\n",
      "Epoch: 21, Loss: 2.4617, time passed since start: 10.688729524612427s, t_exec last epoch: 0.48470401763916016s\n",
      "Epoch: 22, Loss: 2.3477, time passed since start: 11.222785711288452s, t_exec last epoch: 0.5339827537536621s\n",
      "Epoch: 23, Loss: 2.2396, time passed since start: 11.732192516326904s, t_exec last epoch: 0.5093317031860352s\n",
      "Epoch: 24, Loss: 2.1463, time passed since start: 12.239201784133911s, t_exec last epoch: 0.5069301128387451s\n",
      "Epoch: 25, Loss: 2.0547, time passed since start: 12.766448020935059s, t_exec last epoch: 0.5271751880645752s\n",
      "Epoch: 26, Loss: 1.9808, time passed since start: 13.29308533668518s, t_exec last epoch: 0.526566743850708s\n",
      "Epoch: 27, Loss: 1.9088, time passed since start: 13.820313453674316s, t_exec last epoch: 0.5271627902984619s\n",
      "Epoch: 28, Loss: 1.8452, time passed since start: 14.275956869125366s, t_exec last epoch: 0.45556139945983887s\n",
      "Epoch: 29, Loss: 1.7789, time passed since start: 14.805736303329468s, t_exec last epoch: 0.5297095775604248s\n",
      "Epoch: 30, Loss: 1.7265, time passed since start: 15.33162546157837s, t_exec last epoch: 0.5258209705352783s\n",
      "Epoch: 31, Loss: 1.6763, time passed since start: 15.859664916992188s, t_exec last epoch: 0.5279743671417236s\n",
      "Epoch: 32, Loss: 1.6297, time passed since start: 16.38769292831421s, t_exec last epoch: 0.5279600620269775s\n",
      "Epoch: 33, Loss: 1.5860, time passed since start: 16.916327476501465s, t_exec last epoch: 0.5285665988922119s\n",
      "Epoch: 34, Loss: 1.5499, time passed since start: 17.44207739830017s, t_exec last epoch: 0.5256814956665039s\n",
      "Epoch: 35, Loss: 1.5192, time passed since start: 17.96900224685669s, t_exec last epoch: 0.5268568992614746s\n",
      "Epoch: 36, Loss: 1.4866, time passed since start: 18.495322704315186s, t_exec last epoch: 0.526252031326294s\n",
      "Epoch: 37, Loss: 1.4527, time passed since start: 19.005407094955444s, t_exec last epoch: 0.5100154876708984s\n",
      "Epoch: 38, Loss: 1.4309, time passed since start: 19.540273666381836s, t_exec last epoch: 0.5347921848297119s\n",
      "Epoch: 39, Loss: 1.4049, time passed since start: 20.07147455215454s, t_exec last epoch: 0.5311298370361328s\n",
      "Epoch: 40, Loss: 1.3881, time passed since start: 20.612854957580566s, t_exec last epoch: 0.541311502456665s\n",
      "Epoch: 41, Loss: 1.3656, time passed since start: 21.15393900871277s, t_exec last epoch: 0.5410125255584717s\n",
      "Epoch: 42, Loss: 1.3471, time passed since start: 21.67323136329651s, t_exec last epoch: 0.519221305847168s\n",
      "Epoch: 43, Loss: 1.3331, time passed since start: 22.203357458114624s, t_exec last epoch: 0.5300579071044922s\n",
      "Epoch: 44, Loss: 1.3147, time passed since start: 22.738487005233765s, t_exec last epoch: 0.535057783126831s\n",
      "Epoch: 45, Loss: 1.3013, time passed since start: 23.271808624267578s, t_exec last epoch: 0.5332562923431396s\n",
      "Epoch: 46, Loss: 1.2885, time passed since start: 23.7878999710083s, t_exec last epoch: 0.5160257816314697s\n",
      "Epoch: 47, Loss: 1.2738, time passed since start: 24.298758268356323s, t_exec last epoch: 0.5107824802398682s\n",
      "Epoch: 48, Loss: 1.2692, time passed since start: 24.812889337539673s, t_exec last epoch: 0.5140557289123535s\n",
      "Epoch: 49, Loss: 1.2550, time passed since start: 25.35587430000305s, t_exec last epoch: 0.5429129600524902s\n",
      "Epoch: 50, Loss: 1.2460, time passed since start: 25.901219606399536s, t_exec last epoch: 0.5452785491943359s\n",
      "Epoch: 51, Loss: 1.2415, time passed since start: 26.44653034210205s, t_exec last epoch: 0.5452415943145752s\n",
      "Epoch: 52, Loss: 1.2303, time passed since start: 26.98992419242859s, t_exec last epoch: 0.543328046798706s\n",
      "Epoch: 53, Loss: 1.2240, time passed since start: 27.53209686279297s, t_exec last epoch: 0.5421040058135986s\n",
      "Epoch: 54, Loss: 1.2170, time passed since start: 28.076038360595703s, t_exec last epoch: 0.5438756942749023s\n",
      "Epoch: 55, Loss: 1.2116, time passed since start: 28.61994957923889s, t_exec last epoch: 0.5438427925109863s\n",
      "Epoch: 56, Loss: 1.2077, time passed since start: 29.163926362991333s, t_exec last epoch: 0.5439126491546631s\n",
      "Epoch: 57, Loss: 1.2000, time passed since start: 29.707035779953003s, t_exec last epoch: 0.5430428981781006s\n",
      "Epoch: 58, Loss: 1.1983, time passed since start: 30.2529559135437s, t_exec last epoch: 0.5458536148071289s\n",
      "Epoch: 59, Loss: 1.1938, time passed since start: 30.79609227180481s, t_exec last epoch: 0.5430700778961182s\n",
      "Epoch: 60, Loss: 1.1877, time passed since start: 31.34170126914978s, t_exec last epoch: 0.5455451011657715s\n",
      "Epoch: 61, Loss: 1.1829, time passed since start: 31.885093927383423s, t_exec last epoch: 0.5433266162872314s\n",
      "Epoch: 62, Loss: 1.1800, time passed since start: 32.42970514297485s, t_exec last epoch: 0.5445444583892822s\n",
      "Epoch: 63, Loss: 1.1759, time passed since start: 32.97262477874756s, t_exec last epoch: 0.5428497791290283s\n",
      "Epoch: 64, Loss: 1.1747, time passed since start: 33.516961097717285s, t_exec last epoch: 0.5442724227905273s\n",
      "Epoch: 65, Loss: 1.1739, time passed since start: 34.06763768196106s, t_exec last epoch: 0.5506069660186768s\n",
      "Epoch: 66, Loss: 1.1683, time passed since start: 34.61310291290283s, t_exec last epoch: 0.5453953742980957s\n",
      "Epoch: 67, Loss: 1.1659, time passed since start: 35.137511014938354s, t_exec last epoch: 0.5243394374847412s\n",
      "Epoch: 68, Loss: 1.1607, time passed since start: 35.64984965324402s, t_exec last epoch: 0.5122654438018799s\n",
      "Epoch: 69, Loss: 1.1595, time passed since start: 36.18874979019165s, t_exec last epoch: 0.5388333797454834s\n",
      "Epoch: 70, Loss: 1.1562, time passed since start: 36.72285747528076s, t_exec last epoch: 0.534041166305542s\n",
      "Epoch: 71, Loss: 1.1577, time passed since start: 37.261322021484375s, t_exec last epoch: 0.5383977890014648s\n",
      "Epoch: 72, Loss: 1.1515, time passed since start: 37.800891637802124s, t_exec last epoch: 0.5395052433013916s\n",
      "Epoch: 73, Loss: 1.1497, time passed since start: 38.3411226272583s, t_exec last epoch: 0.5401639938354492s\n",
      "Epoch: 74, Loss: 1.1479, time passed since start: 38.881067514419556s, t_exec last epoch: 0.5398783683776855s\n",
      "Epoch: 75, Loss: 1.1470, time passed since start: 39.41842746734619s, t_exec last epoch: 0.5372962951660156s\n",
      "Epoch: 76, Loss: 1.1465, time passed since start: 39.95601558685303s, t_exec last epoch: 0.5375242233276367s\n",
      "Epoch: 77, Loss: 1.1484, time passed since start: 40.492812395095825s, t_exec last epoch: 0.5367321968078613s\n",
      "Epoch: 78, Loss: 1.1440, time passed since start: 41.03196334838867s, t_exec last epoch: 0.5390849113464355s\n",
      "Epoch: 79, Loss: 1.1411, time passed since start: 41.567538022994995s, t_exec last epoch: 0.5355086326599121s\n",
      "Epoch: 80, Loss: 1.1418, time passed since start: 42.103832960128784s, t_exec last epoch: 0.536229133605957s\n",
      "Epoch: 81, Loss: 1.1420, time passed since start: 42.6404492855072s, t_exec last epoch: 0.5365502834320068s\n",
      "Epoch: 82, Loss: 1.1432, time passed since start: 43.178568601608276s, t_exec last epoch: 0.5380523204803467s\n",
      "Epoch: 83, Loss: 1.1421, time passed since start: 43.715874433517456s, t_exec last epoch: 0.5372424125671387s\n",
      "Epoch: 84, Loss: 1.1419, time passed since start: 44.25099587440491s, t_exec last epoch: 0.5350580215454102s\n",
      "Epoch: 85, Loss: 1.1383, time passed since start: 44.79166316986084s, t_exec last epoch: 0.5405991077423096s\n",
      "Epoch: 86, Loss: 1.1364, time passed since start: 45.331496715545654s, t_exec last epoch: 0.5397634506225586s\n",
      "Epoch: 87, Loss: 1.1377, time passed since start: 45.87078094482422s, t_exec last epoch: 0.5392179489135742s\n",
      "Epoch: 88, Loss: 1.1380, time passed since start: 46.4082989692688s, t_exec last epoch: 0.5374524593353271s\n",
      "Epoch: 89, Loss: 1.1345, time passed since start: 46.944814682006836s, t_exec last epoch: 0.536449670791626s\n",
      "Epoch: 90, Loss: 1.1380, time passed since start: 47.48055124282837s, t_exec last epoch: 0.5356698036193848s\n",
      "Epoch: 91, Loss: 1.1329, time passed since start: 47.9860360622406s, t_exec last epoch: 0.5054199695587158s\n",
      "Epoch: 92, Loss: 1.1311, time passed since start: 48.524397134780884s, t_exec last epoch: 0.5382943153381348s\n",
      "Epoch: 93, Loss: 1.1320, time passed since start: 49.06419229507446s, t_exec last epoch: 0.5397288799285889s\n",
      "Epoch: 94, Loss: 1.1313, time passed since start: 49.6002197265625s, t_exec last epoch: 0.5359623432159424s\n",
      "Epoch: 95, Loss: 1.1325, time passed since start: 50.13994836807251s, t_exec last epoch: 0.5396599769592285s\n",
      "Epoch: 96, Loss: 1.1295, time passed since start: 50.67826986312866s, t_exec last epoch: 0.5382556915283203s\n",
      "Epoch: 97, Loss: 1.1294, time passed since start: 51.21616768836975s, t_exec last epoch: 0.5378308296203613s\n",
      "Epoch: 98, Loss: 1.1271, time passed since start: 51.69167947769165s, t_exec last epoch: 0.4754462242126465s\n",
      "Epoch: 99, Loss: 1.1297, time passed since start: 52.22737526893616s, t_exec last epoch: 0.5356278419494629s\n",
      "T_exec embedding generation: 52.22744536399841s\n",
      "Old number of candidates: 176423\n",
      "New number of candidates: 2361\n"
     ]
    }
   ],
   "source": [
    "matches_free = free_entity_resolution([r\"/home/francesco.pugnaloni/EntityResolutionWithPyG/Tests/FZ/Datasets/fodors_zagats-tableA.csv\", r\"/home/francesco.pugnaloni/EntityResolutionWithPyG/Tests/FZ/Datasets/fodors_zagats-tableB.csv\"],file_directory=r\"/home/francesco.pugnaloni/EntityResolutionWithPyG/Tests/FZ/Files\", n_epochs=100)"
   ]
  },
  {
   "cell_type": "code",
   "execution_count": 3,
   "metadata": {},
   "outputs": [],
   "source": [
    "l_free = [t for t in matches_free]"
   ]
  },
  {
   "attachments": {},
   "cell_type": "markdown",
   "metadata": {},
   "source": [
    "Output visualization"
   ]
  },
  {
   "cell_type": "code",
   "execution_count": 6,
   "metadata": {},
   "outputs": [
    {
     "data": {
      "text/plain": [
       "[('tp_0_98', 'tp_0_110'),\n",
       " ('tp_0_140', 'tp_0_263'),\n",
       " ('tp_0_287', 'tp_0_329'),\n",
       " ('tp_0_66', 'tp_1_245'),\n",
       " ('tp_0_7', 'tp_1_7'),\n",
       " ('tp_0_274', 'tp_0_358'),\n",
       " ('tp_0_285', 'tp_0_361'),\n",
       " ('tp_0_101', 'tp_1_319'),\n",
       " ('tp_0_485', 'tp_0_503'),\n",
       " ('tp_1_189', 'tp_1_193')]"
      ]
     },
     "execution_count": 6,
     "metadata": {},
     "output_type": "execute_result"
    }
   ],
   "source": [
    "l_free[0:10]"
   ]
  },
  {
   "cell_type": "code",
   "execution_count": null,
   "metadata": {},
   "outputs": [],
   "source": []
  }
 ],
 "metadata": {
  "kernelspec": {
   "display_name": "Python 3",
   "language": "python",
   "name": "python3"
  },
  "language_info": {
   "codemirror_mode": {
    "name": "ipython",
    "version": 3
   },
   "file_extension": ".py",
   "mimetype": "text/x-python",
   "name": "python",
   "nbconvert_exporter": "python",
   "pygments_lexer": "ipython3",
   "version": "3.11.3"
  },
  "orig_nbformat": 4
 },
 "nbformat": 4,
 "nbformat_minor": 2
}
